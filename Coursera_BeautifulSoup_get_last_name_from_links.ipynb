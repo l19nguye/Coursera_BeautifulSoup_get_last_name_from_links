{
 "cells": [
  {
   "cell_type": "code",
   "execution_count": 1,
   "metadata": {
    "collapsed": true
   },
   "outputs": [],
   "source": [
    "# Follow the below instruction to pass the quiz:\n",
    "    # - open link \"http://python-data.dr-chuck.net/known_by_Brianna.html\"\n",
    "    # - click on the 18th item\n",
    "    # - repeat 7 times, then get the last name"
   ]
  },
  {
   "cell_type": "code",
   "execution_count": 2,
   "metadata": {
    "collapsed": true
   },
   "outputs": [],
   "source": [
    "# the HTML code of URL \"http://python-data.dr-chuck.net/known_by_Brianna.html\" \n",
    "# could be found in the file known_by_Brianna.html.txt"
   ]
  },
  {
   "cell_type": "code",
   "execution_count": 3,
   "metadata": {
    "collapsed": true
   },
   "outputs": [],
   "source": [
    "# we can see that all URL are \"href\" attribute and inside tags <a>\n",
    "# since the last name is contained in the URL so we can use Regular Expression to extract the last name from the URL\n",
    "# the pattern would be '/known_by_([a-zA-Z]+).html'"
   ]
  },
  {
   "cell_type": "raw",
   "metadata": {},
   "source": [
    ".............\n",
    "<li style=\"margin-top: 10px;\"><a href=\"http://python-data.dr-chuck.net/known_by_Tadd.html\">Tadd</a></li>\n",
    "<li style=\"margin-top: 3px;\"><a href=\"http://python-data.dr-chuck.net/known_by_Kaia.html\">Kaia</a></li>\n",
    "<li style=\"margin-top: 6px;\"><a href=\"http://python-data.dr-chuck.net/known_by_Connie.html\">Connie</a></li>\n",
    "<li style=\"margin-top: 18px;\"><a href=\"http://python-data.dr-chuck.net/known_by_Cadey.html\">Cadey</a></li>\n",
    "<li style=\"margin-top: 24px;\"><a href=\"http://python-data.dr-chuck.net/known_by_Lyla.html\">Lyla</a></li>\n",
    "............"
   ]
  },
  {
   "cell_type": "code",
   "execution_count": 4,
   "metadata": {
    "collapsed": true
   },
   "outputs": [],
   "source": [
    "from urllib.request import urlopen\n",
    "from bs4 import BeautifulSoup as bs\n",
    "import re"
   ]
  },
  {
   "cell_type": "code",
   "execution_count": 5,
   "metadata": {
    "collapsed": true
   },
   "outputs": [],
   "source": [
    "# variables for the begining URL\n",
    "link = 'http://python-data.dr-chuck.net/known_by_Brianna.html'\n",
    "\n",
    "# Regular Expression to get the last name from a HTML link\n",
    "# ex: \"http://python-data.dr-chuck.net/known_by_Brianna.html\" --> last name should be \"Brianna\"\n",
    "reg_last_name = '/known_by_([a-zA-Z]+).html'"
   ]
  },
  {
   "cell_type": "code",
   "execution_count": 6,
   "metadata": {
    "collapsed": false
   },
   "outputs": [
    {
     "name": "stdout",
     "output_type": "stream",
     "text": [
      "['Annsarai']\n"
     ]
    }
   ],
   "source": [
    "# we need to open the link at the beginning\n",
    "# then will open the 18th URL 7 times --> totally we need to do that 8 times\n",
    "for i in range(8):\n",
    "    # open link and read data from it\n",
    "    data = urlopen(link).read()\n",
    "    \n",
    "    # parse HTML to BeautifulSoup object\n",
    "    soup = bs(data, 'html.parser')\n",
    "    \n",
    "    # find all <a> tags \n",
    "    tags = soup.find_all('a')\n",
    "    \n",
    "    # a list will store all the URL extracted from all tags <a>\n",
    "    ls_url = [item.get('href') for item in tags]\n",
    "    \n",
    "    # the 18th URL to process next\n",
    "    link = ls_url[17]   \n",
    "\n",
    "# extract the last name of the last 18th URL\n",
    "last_name = re.findall(reg_last_name, link)\n",
    "\n",
    "#print out\n",
    "print(last_name)"
   ]
  },
  {
   "cell_type": "code",
   "execution_count": null,
   "metadata": {
    "collapsed": true
   },
   "outputs": [],
   "source": []
  },
  {
   "cell_type": "code",
   "execution_count": 7,
   "metadata": {
    "collapsed": true
   },
   "outputs": [],
   "source": [
    "# write a function for this task then we could reuse it in different cases\n",
    "\n",
    "beginning_url = r'http://python-data.dr-chuck.net/known_by_Brianna.html'\n",
    "\n",
    "def get_last_name(url = beginning_url, repeat_times = 7, get_url_at = 18):\n",
    "    reg_last_name = '/known_by_([a-zA-Z]+).html'\n",
    "    \n",
    "    for i in range(repeat_times + 1):\n",
    "        data = urlopen(url).read()\n",
    "        soup = bs(data, 'html.parser')\n",
    "    \n",
    "        tags = soup.find_all('a')\n",
    "        ls_url = [item.get('href') for item in tags]\n",
    "    \n",
    "        url = ls_url[get_url_at -1]  \n",
    "        \n",
    "    return re.findall(reg_last_name, url)"
   ]
  },
  {
   "cell_type": "code",
   "execution_count": 8,
   "metadata": {
    "collapsed": false
   },
   "outputs": [
    {
     "name": "stdout",
     "output_type": "stream",
     "text": [
      "['Annsarai']\n"
     ]
    }
   ],
   "source": [
    "# run function with default values: \n",
    "# URL = \"http://python-data.dr-chuck.net/known_by_Brianna.html\", open the 18th URL 7 times\n",
    "print(get_last_name())"
   ]
  },
  {
   "cell_type": "code",
   "execution_count": 9,
   "metadata": {
    "collapsed": false
   },
   "outputs": [
    {
     "name": "stdout",
     "output_type": "stream",
     "text": [
      "['Chen']\n"
     ]
    }
   ],
   "source": [
    "# run function with other values: \n",
    "print(get_last_name(repeat_times=3, get_url_at=3))"
   ]
  },
  {
   "cell_type": "code",
   "execution_count": null,
   "metadata": {
    "collapsed": true
   },
   "outputs": [],
   "source": []
  }
 ],
 "metadata": {
  "kernelspec": {
   "display_name": "Python 3",
   "language": "python",
   "name": "python3"
  },
  "language_info": {
   "codemirror_mode": {
    "name": "ipython",
    "version": 3
   },
   "file_extension": ".py",
   "mimetype": "text/x-python",
   "name": "python",
   "nbconvert_exporter": "python",
   "pygments_lexer": "ipython3",
   "version": "3.6.0"
  }
 },
 "nbformat": 4,
 "nbformat_minor": 2
}
